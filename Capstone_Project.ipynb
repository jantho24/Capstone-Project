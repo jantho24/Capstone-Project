Resources:
https://www.dataquest.io/blog/data-science-projects-for-beginners-with-source-code/
https://openneuro.org/search/modality/mri?query=%7B%22modality_selected%22%3A%22MRI%22%7D
