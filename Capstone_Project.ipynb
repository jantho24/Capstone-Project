Resources:
https://www.dataquest.io/blog/data-science-projects-for-beginners-with-source-code/
https://openneuro.org/search/modality/mri?query=%7B%22modality_selected%22%3A%22MRI%22%7D


Ideas:
https://openneuro.org/datasets/ds005600/versions/1.1.0
https://openneuro.org/datasets/ds005573/versions/1.0.0
https://openneuro.org/datasets/ds005525/versions/1.0.0
